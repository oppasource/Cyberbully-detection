{
 "cells": [
  {
   "cell_type": "code",
   "execution_count": 1,
   "metadata": {
    "scrolled": true
   },
   "outputs": [],
   "source": [
    "import numpy as np\n",
    "import pandas as pd\n",
    "import re\n",
    "import os\n",
    "import requests\n",
    "import matplotlib.pyplot as plt\n",
    "\n",
    "import nltk\n",
    "from nltk.corpus import stopwords\n",
    "from nltk.tokenize import word_tokenize\n",
    "\n",
    "from gensim.scripts.glove2word2vec import glove2word2vec\n",
    "from gensim.models.keyedvectors import KeyedVectors\n",
    "\n",
    "from sklearn.linear_model import LogisticRegression\n",
    "from sklearn import svm"
   ]
  },
  {
   "cell_type": "code",
   "execution_count": 2,
   "metadata": {},
   "outputs": [],
   "source": [
    "# If glove embeds is not in word2vec form then first convert it then load it\n",
    "if os.path.isfile('pretrained_embeds/gensim_glove_vectors.txt'):\n",
    "    glove_model = KeyedVectors.load_word2vec_format(\"pretrained_embeds/gensim_glove_vectors.txt\", binary=False)\n",
    "else:\n",
    "    glove2word2vec(glove_input_file=\"pretrained_embeds/glove.twitter.27B.25d.txt\", word2vec_output_file=\"pretrained_embeds/gensim_glove_vectors.txt\")\n",
    "    glove_model = KeyedVectors.load_word2vec_format(\"pretrained_embeds/gensim_glove_vectors.txt\", binary=False)\n",
    "\n",
    "def get_embed(word):\n",
    "    # Case folding\n",
    "    word = word.lower()\n",
    "    try:\n",
    "        return (glove_model.get_vector(word))\n",
    "    except:\n",
    "        return (glove_model.get_vector('unk'))"
   ]
  },
  {
   "cell_type": "code",
   "execution_count": 3,
   "metadata": {},
   "outputs": [
    {
     "data": {
      "text/plain": [
       "array([ 1.1768  ,  0.82329 , -0.19366 , -0.25328 ,  0.99367 , -0.1751  ,\n",
       "        0.95619 , -0.14049 ,  0.90307 ,  0.77942 ,  0.052748,  0.015829,\n",
       "       -3.0639  ,  0.79883 ,  0.97166 ,  0.1536  ,  0.54858 , -0.062755,\n",
       "       -1.1394  , -0.53928 , -0.49389 , -0.17549 , -0.41542 ,  0.62815 ,\n",
       "       -0.33548 ], dtype=float32)"
      ]
     },
     "execution_count": 3,
     "metadata": {},
     "output_type": "execute_result"
    }
   ],
   "source": [
    "get_embed('test')"
   ]
  },
  {
   "cell_type": "code",
   "execution_count": 4,
   "metadata": {},
   "outputs": [
    {
     "data": {
      "text/html": [
       "<div>\n",
       "<style scoped>\n",
       "    .dataframe tbody tr th:only-of-type {\n",
       "        vertical-align: middle;\n",
       "    }\n",
       "\n",
       "    .dataframe tbody tr th {\n",
       "        vertical-align: top;\n",
       "    }\n",
       "\n",
       "    .dataframe thead th {\n",
       "        text-align: right;\n",
       "    }\n",
       "</style>\n",
       "<table border=\"1\" class=\"dataframe\">\n",
       "  <thead>\n",
       "    <tr style=\"text-align: right;\">\n",
       "      <th></th>\n",
       "      <th>label_bullying</th>\n",
       "      <th>text_message</th>\n",
       "    </tr>\n",
       "  </thead>\n",
       "  <tbody>\n",
       "    <tr>\n",
       "      <th>0</th>\n",
       "      <td>0</td>\n",
       "      <td>yeah I got 2 backups for all that. I just hate...</td>\n",
       "    </tr>\n",
       "    <tr>\n",
       "      <th>1</th>\n",
       "      <td>0</td>\n",
       "      <td>I hate using my BB  but love my iPhone. Haven'...</td>\n",
       "    </tr>\n",
       "    <tr>\n",
       "      <th>2</th>\n",
       "      <td>1</td>\n",
       "      <td>Get fucking real dude.</td>\n",
       "    </tr>\n",
       "    <tr>\n",
       "      <th>3</th>\n",
       "      <td>1</td>\n",
       "      <td>She is as dirty as they come  and that crook ...</td>\n",
       "    </tr>\n",
       "    <tr>\n",
       "      <th>4</th>\n",
       "      <td>1</td>\n",
       "      <td>why did you fuck it up. I could do it all day...</td>\n",
       "    </tr>\n",
       "  </tbody>\n",
       "</table>\n",
       "</div>"
      ],
      "text/plain": [
       "   label_bullying                                       text_message\n",
       "0               0  yeah I got 2 backups for all that. I just hate...\n",
       "1               0  I hate using my BB  but love my iPhone. Haven'...\n",
       "2               1                             Get fucking real dude.\n",
       "3               1   She is as dirty as they come  and that crook ...\n",
       "4               1   why did you fuck it up. I could do it all day..."
      ]
     },
     "execution_count": 4,
     "metadata": {},
     "output_type": "execute_result"
    }
   ],
   "source": [
    "data = pd.read_csv('data.csv')\n",
    "data.head()"
   ]
  },
  {
   "cell_type": "code",
   "execution_count": 5,
   "metadata": {},
   "outputs": [],
   "source": [
    "total = 0\n",
    "ones = 0\n",
    "\n",
    "data_embeds = []\n",
    "label = []\n",
    "\n",
    "stop_words = set(stopwords.words('english'))\n",
    "\n",
    "for index, row in data.iterrows():\n",
    "\n",
    "    sent = row['text_message']\n",
    "    sent = sent.replace('\\n','')                                # Remove new lines\n",
    "    sent = sent.replace('\\t',' ')                               # Remove tabs\n",
    "    sent = re.sub(r'http\\S+', '', sent, flags=re.MULTILINE)     # Remove urls\n",
    "    sent = re.sub(r'[^\\w\\s]','', row['text_message'])           # Remove punctuations\n",
    "    sent = sent.lower().strip()                                 # Case folding\n",
    "    sent = word_tokenize(sent)                                  # Tokenization\n",
    "#     sent = [i for i in sent if i not in stop_words]\n",
    "    \n",
    "    temp = [get_embed(i) for i in sent]\n",
    "    temp = np.array(temp)\n",
    "    temp = temp.mean(axis=0)\n",
    "    data_embeds.append(temp)\n",
    "    label.append(row['label_bullying'])\n",
    "\n",
    "# Train-Test split\n",
    "partition = int(0.8*len(data))\n",
    "train = data_embeds[:partition]\n",
    "train_y = label[:partition]\n",
    "\n",
    "test = data_embeds[partition:]\n",
    "test_y = label[partition:]"
   ]
  },
  {
   "cell_type": "code",
   "execution_count": 6,
   "metadata": {},
   "outputs": [
    {
     "name": "stderr",
     "output_type": "stream",
     "text": [
      "/home/yash/.local/lib/python3.5/site-packages/sklearn/linear_model/logistic.py:432: FutureWarning: Default solver will be changed to 'lbfgs' in 0.22. Specify a solver to silence this warning.\n",
      "  FutureWarning)\n"
     ]
    },
    {
     "data": {
      "text/plain": [
       "0.8973922902494331"
      ]
     },
     "execution_count": 6,
     "metadata": {},
     "output_type": "execute_result"
    }
   ],
   "source": [
    "logreg = LogisticRegression()\n",
    "logreg.fit(train, train_y)\n",
    "logreg.score(test, test_y)"
   ]
  },
  {
   "cell_type": "code",
   "execution_count": 7,
   "metadata": {},
   "outputs": [
    {
     "data": {
      "text/plain": [
       "0.9217687074829932"
      ]
     },
     "execution_count": 7,
     "metadata": {},
     "output_type": "execute_result"
    }
   ],
   "source": [
    "clf = svm.SVC(C=10, gamma='scale')\n",
    "clf.fit(train, train_y)\n",
    "clf.score(test, test_y)"
   ]
  }
 ],
 "metadata": {
  "kernelspec": {
   "display_name": "Python 3",
   "language": "python",
   "name": "python3"
  },
  "language_info": {
   "codemirror_mode": {
    "name": "ipython",
    "version": 3
   },
   "file_extension": ".py",
   "mimetype": "text/x-python",
   "name": "python",
   "nbconvert_exporter": "python",
   "pygments_lexer": "ipython3",
   "version": "3.5.2"
  }
 },
 "nbformat": 4,
 "nbformat_minor": 2
}
